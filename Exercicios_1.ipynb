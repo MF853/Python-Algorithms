{
 "cells": [
  {
   "cell_type": "code",
   "execution_count": 1,
   "metadata": {},
   "outputs": [
    {
     "name": "stdout",
     "output_type": "stream",
     "text": [
      "Hello World\n"
     ]
    }
   ],
   "source": [
    "#1\n",
    "print('Hello World')"
   ]
  },
  {
   "cell_type": "code",
   "execution_count": 2,
   "metadata": {},
   "outputs": [
    {
     "name": "stdout",
     "output_type": "stream",
     "text": [
      "O número informado foi: 10\n"
     ]
    }
   ],
   "source": [
    "#2\n",
    "numI = input('Digite um número: ')\n",
    "print('O número informado foi: ' + numI)"
   ]
  },
  {
   "cell_type": "code",
   "execution_count": 4,
   "metadata": {},
   "outputs": [
    {
     "name": "stdout",
     "output_type": "stream",
     "text": [
      "12\n"
     ]
    }
   ],
   "source": [
    "#3\n",
    "num1 = int(input('Digite um número: '))\n",
    "num2 = int(input('Digite outro número: '))\n",
    "print(num1 + num2)\n"
   ]
  },
  {
   "cell_type": "code",
   "execution_count": 26,
   "metadata": {},
   "outputs": [
    {
     "name": "stdout",
     "output_type": "stream",
     "text": [
      "Sua média é: 10.0\n"
     ]
    }
   ],
   "source": [
    "#4\n",
    "notas = 0;\n",
    "i = [0,0,0,0]\n",
    "for itens in i:\n",
    "    notasIn = int(input('Digite sua nota '))\n",
    "    notas += notasIn\n",
    "media = notas/4\n",
    "print('Sua média é: ' + str(media))\n"
   ]
  },
  {
   "cell_type": "code",
   "execution_count": 1,
   "metadata": {},
   "outputs": [
    {
     "name": "stdout",
     "output_type": "stream",
     "text": [
      "2m = 200cm\n"
     ]
    }
   ],
   "source": [
    "#5\n",
    "entrada = input('Digite um tamanho em Metros: ')\n",
    "print(entrada + 'm ' + '= ' + str(int(entrada) * 100) + 'cm')"
   ]
  },
  {
   "cell_type": "code",
   "execution_count": 3,
   "metadata": {},
   "outputs": [
    {
     "name": "stdout",
     "output_type": "stream",
     "text": [
      "a área do circulo é 12.56cm^2\n"
     ]
    }
   ],
   "source": [
    "#6\n",
    "raio = input('Digite o raio de um circulo em centimetros: ')\n",
    "print('A área do circulo é ' + str(int(raio) ** 2 * 3.14) + 'cm^2')"
   ]
  },
  {
   "cell_type": "code",
   "execution_count": 3,
   "metadata": {},
   "outputs": [
    {
     "name": "stdout",
     "output_type": "stream",
     "text": [
      "O dobro da área do quadrado é 18cm^2\n"
     ]
    }
   ],
   "source": [
    "#7\n",
    "lado = input('Digite o tamanho do lado do quadrado: ')\n",
    "print('O dobro da área do quadrado é ' + str(2*(int(lado)**2)) + 'cm^2')"
   ]
  },
  {
   "cell_type": "code",
   "execution_count": 4,
   "metadata": {},
   "outputs": [
    {
     "name": "stdout",
     "output_type": "stream",
     "text": [
      "Seu salario é: R$1600\n"
     ]
    }
   ],
   "source": [
    "#8\n",
    "valorph = input('Digite quanto ganha por hora: ')\n",
    "horas = input('Digite quantas horas trabalha no mês: ')\n",
    "print('Seu salario é: R$' + str(int(valorph)*int(horas)))"
   ]
  },
  {
   "cell_type": "code",
   "execution_count": 7,
   "metadata": {},
   "outputs": [
    {
     "name": "stdout",
     "output_type": "stream",
     "text": [
      "122F = 50.0°C\n"
     ]
    }
   ],
   "source": [
    "#9\n",
    "temp = input('Digite uma temperatura em Fahrenheit: ')\n",
    "print(temp +'F = ' + str(5*((int(temp)-32)/9)) + '°C')"
   ]
  },
  {
   "cell_type": "code",
   "execution_count": 9,
   "metadata": {},
   "outputs": [
    {
     "name": "stdout",
     "output_type": "stream",
     "text": [
      "100°C = 212.0F\n"
     ]
    }
   ],
   "source": [
    "#10\n",
    "temp = input('Digite uma temperatura em Celsius: ')\n",
    "print(temp +'°C = ' + str(32+((int(temp)*9)/5)) + 'F')"
   ]
  },
  {
   "cell_type": "code",
   "execution_count": 11,
   "metadata": {},
   "outputs": [
    {
     "name": "stdout",
     "output_type": "stream",
     "text": [
      "R1 =  2.0 \n",
      " R2 =  6 \n",
      " R3 =  27\n"
     ]
    }
   ],
   "source": [
    "#11\n",
    "num1 = input('Digite um número:')\n",
    "num2 = input('Digite um número:')\n",
    "num3= input('Digite um número:')\n",
    "r1 = str((int(num1)*2)*(int(num2)/2))\n",
    "r2 = str(int(num1)*3 + int(num3))\n",
    "r3 = str(int(num3)**3)\n",
    "print('R1 = ',r1,'\\nR2 = ',r2,'\\nR3 = ',r3)"
   ]
  },
  {
   "cell_type": "code",
   "execution_count": 32,
   "metadata": {},
   "outputs": [
    {
     "name": "stdout",
     "output_type": "stream",
     "text": [
      "Seu peso ideal é:  80.13 Kg\n"
     ]
    }
   ],
   "source": [
    "#12\n",
    "altura = input('Digite sua altura: ')\n",
    "altura = round((float(altura)*72.7)-58 , 2)\n",
    "print('Seu peso ideal é: ', str(altura), 'Kg')"
   ]
  },
  {
   "cell_type": "code",
   "execution_count": 33,
   "metadata": {},
   "outputs": [
    {
     "name": "stdout",
     "output_type": "stream",
     "text": [
      "Seu peso ideal é:  60.87 Kg\n"
     ]
    }
   ],
   "source": [
    "#13\n",
    "genero = input('Diga seu gênero:\\nH = Homem\\nM = Mulher')\n",
    "h = input('Digite sua altura: ')\n",
    "h = float(h)\n",
    "if genero == 'M' or genero == 'm':\n",
    "    peso = str(round(h*62.1-44.7, 2))\n",
    "else:\n",
    "    peso = str(round(h*72.7-58, 2))\n",
    "print('Seu peso ideal é: ', peso, 'Kg')"
   ]
  },
  {
   "cell_type": "code",
   "execution_count": null,
   "metadata": {},
   "outputs": [],
   "source": [
    "#14\n"
   ]
  }
 ],
 "metadata": {
  "interpreter": {
   "hash": "81794d4967e6c3204c66dcd87b604927b115b27c00565d3d43f05ba2f3a2cb0d"
  },
  "kernelspec": {
   "display_name": "Python 3.9.7 64-bit",
   "language": "python",
   "name": "python3"
  },
  "language_info": {
   "codemirror_mode": {
    "name": "ipython",
    "version": 3
   },
   "file_extension": ".py",
   "mimetype": "text/x-python",
   "name": "python",
   "nbconvert_exporter": "python",
   "pygments_lexer": "ipython3",
   "version": "3.9.7"
  },
  "orig_nbformat": 4
 },
 "nbformat": 4,
 "nbformat_minor": 2
}
