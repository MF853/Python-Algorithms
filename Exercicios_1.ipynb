{
 "cells": [
  {
   "cell_type": "code",
   "execution_count": 1,
   "metadata": {},
   "outputs": [
    {
     "name": "stdout",
     "output_type": "stream",
     "text": [
      "Hello World\n"
     ]
    }
   ],
   "source": [
    "#1\n",
    "print('Hello World')"
   ]
  },
  {
   "cell_type": "code",
   "execution_count": 2,
   "metadata": {},
   "outputs": [
    {
     "name": "stdout",
     "output_type": "stream",
     "text": [
      "O número informado foi: 10\n"
     ]
    }
   ],
   "source": [
    "#2\n",
    "numI = input('Digite um número: ')\n",
    "print('O número informado foi: ' + numI)"
   ]
  },
  {
   "cell_type": "code",
   "execution_count": 4,
   "metadata": {},
   "outputs": [
    {
     "name": "stdout",
     "output_type": "stream",
     "text": [
      "12\n"
     ]
    }
   ],
   "source": [
    "#3\n",
    "num1 = int(input('Digite um número: '))\n",
    "num2 = int(input('Digite outro número: '))\n",
    "print(num1 + num2)\n"
   ]
  },
  {
   "cell_type": "code",
   "execution_count": 26,
   "metadata": {},
   "outputs": [
    {
     "name": "stdout",
     "output_type": "stream",
     "text": [
      "Sua média é: 10.0\n"
     ]
    }
   ],
   "source": [
    "#4\n",
    "notas = 0;\n",
    "i = [0,0,0,0]\n",
    "for itens in i:\n",
    "    notasIn = int(input('Digite sua nota '))\n",
    "    notas += notasIn\n",
    "media = notas/4\n",
    "print('Sua média é: ' + str(media))\n"
   ]
  },
  {
   "cell_type": "code",
   "execution_count": 1,
   "metadata": {},
   "outputs": [
    {
     "name": "stdout",
     "output_type": "stream",
     "text": [
      "2m = 200cm\n"
     ]
    }
   ],
   "source": [
    "#5\n",
    "entrada = input('Digite um tamanho em Metros: ')\n",
    "print(entrada + 'm ' + '= ' + str(int(entrada) * 100) + 'cm')"
   ]
  },
  {
   "cell_type": "code",
   "execution_count": 3,
   "metadata": {},
   "outputs": [
    {
     "name": "stdout",
     "output_type": "stream",
     "text": [
      "a área do circulo é 12.56cm^2\n"
     ]
    }
   ],
   "source": [
    "#6\n",
    "raio = input('Digite o raio de um circulo em centimetros: ')\n",
    "print('A área do circulo é ' + str(int(raio) ** 2 * 3.14) + 'cm^2')"
   ]
  },
  {
   "cell_type": "code",
   "execution_count": null,
   "metadata": {},
   "outputs": [],
   "source": [
    "#7"
   ]
  }
 ],
 "metadata": {
  "interpreter": {
   "hash": "81794d4967e6c3204c66dcd87b604927b115b27c00565d3d43f05ba2f3a2cb0d"
  },
  "kernelspec": {
   "display_name": "Python 3.9.7 64-bit",
   "language": "python",
   "name": "python3"
  },
  "language_info": {
   "codemirror_mode": {
    "name": "ipython",
    "version": 3
   },
   "file_extension": ".py",
   "mimetype": "text/x-python",
   "name": "python",
   "nbconvert_exporter": "python",
   "pygments_lexer": "ipython3",
   "version": "3.9.7"
  },
  "orig_nbformat": 4
 },
 "nbformat": 4,
 "nbformat_minor": 2
}
